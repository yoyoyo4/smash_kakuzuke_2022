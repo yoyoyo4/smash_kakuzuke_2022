{
 "cells": [
  {
   "cell_type": "code",
   "execution_count": 60,
   "metadata": {},
   "outputs": [],
   "source": [
    "# 2022年スマブラー格付けチェックの回答をTwitterAPIで取得し、簡単な加工をしてcsv出力を行う"
   ]
  },
  {
   "cell_type": "code",
   "execution_count": null,
   "metadata": {},
   "outputs": [],
   "source": [
    "# 収集した回答の96%が正解のCの部屋であり、分析困難なのでこちらのコードだけリファクタリングした"
   ]
  },
  {
   "cell_type": "markdown",
   "metadata": {},
   "source": [
    "### 初期設定"
   ]
  },
  {
   "cell_type": "code",
   "execution_count": 1,
   "metadata": {},
   "outputs": [],
   "source": [
    "import tweepy\n",
    "import datetime\n",
    "from pytz import timezone\n",
    "from collections import defaultdict\n",
    "import pandas as pd\n",
    "import glob"
   ]
  },
  {
   "cell_type": "code",
   "execution_count": 2,
   "metadata": {},
   "outputs": [],
   "source": [
    "from IPython.core.interactiveshell import InteractiveShell\n",
    "InteractiveShell.ast_node_interactivity = \"all\""
   ]
  },
  {
   "cell_type": "code",
   "execution_count": 3,
   "metadata": {},
   "outputs": [],
   "source": [
    "pd.set_option('display.max_columns', None)\n",
    "pd.set_option('display.max_rows', 20)\n",
    "pd.set_option(\"display.max_colwidth\", 80)"
   ]
  },
  {
   "cell_type": "markdown",
   "metadata": {},
   "source": [
    "### API準備"
   ]
  },
  {
   "cell_type": "code",
   "execution_count": 5,
   "metadata": {},
   "outputs": [],
   "source": [
    "# 申請･取得したキーやトークンを入力する\n",
    "# プログラム公開時はマスキングすること！！！\n",
    "\n",
    "API_KEY = 'xxxxxxxx'\n",
    "API_SECRET_KEY = 'xxxxxxxx'\n",
    "Access_token = 'xxxxxxxx'\n",
    "Access_secret = 'xxxxxxxx'"
   ]
  },
  {
   "cell_type": "code",
   "execution_count": 6,
   "metadata": {},
   "outputs": [],
   "source": [
    "# API分析用の変数格納\n",
    "\n",
    "auth = tweepy.OAuthHandler(API_KEY, API_SECRET_KEY)\n",
    "auth.set_access_token(Access_token, Access_secret)\n",
    "api = tweepy.API(auth, wait_on_rate_limit=True) # wait_on_rate_limit=True, API上限到達時に自動で待機する"
   ]
  },
  {
   "cell_type": "markdown",
   "metadata": {},
   "source": [
    "### 関数定義"
   ]
  },
  {
   "cell_type": "code",
   "execution_count": null,
   "metadata": {},
   "outputs": [],
   "source": [
    "def get_now():\n",
    "    \"\"\"\n",
    "    yyyyMMddHHmmss形式で現在の日本時間を出力\n",
    "    \"\"\"\n",
    "    now = datetime.datetime.now(datetime.timezone(datetime.timedelta(hours=9))) # 日本時刻\n",
    "    return now.strftime('%Y%m%d%H%M%S')"
   ]
  },
  {
   "cell_type": "markdown",
   "metadata": {},
   "source": [
    "### データ取得"
   ]
  },
  {
   "cell_type": "code",
   "execution_count": null,
   "metadata": {},
   "outputs": [],
   "source": [
    "# ｢Aの部屋に投票した人｣と判定する条件 (B,C の部屋についても同様に定める)\n",
    "# 1. 出題ツイート投稿(2022/12/29 18:03)から 解答ツイート投稿の直前(2022-12-30_17:59:59_JST)の間にツイートした\n",
    "# 2. Aの部屋 のハッシュタグを含み #Bの部屋, #Cの部屋 のハッシュタグを両方含まないツイートをした"
   ]
  },
  {
   "cell_type": "code",
   "execution_count": 50,
   "metadata": {},
   "outputs": [],
   "source": [
    "# 出題ツイートID\n",
    "nietono_q_tw_id = 1608388104695738370"
   ]
  },
  {
   "cell_type": "code",
   "execution_count": 51,
   "metadata": {},
   "outputs": [],
   "source": [
    "# 解答ツイートID\n",
    "nietono_ans_tw_id = 1608749942423826432"
   ]
  },
  {
   "cell_type": "code",
   "execution_count": 58,
   "metadata": {},
   "outputs": [
    {
     "data": {
      "text/plain": [
       "'2022-12-30_18:00:49_JST'"
      ]
     },
     "execution_count": 58,
     "metadata": {},
     "output_type": "execute_result"
    }
   ],
   "source": [
    "# 解答ツイート投稿の直前の時刻を設定\n",
    "# tweepy.CursorでsinceはID指定できるがuntilはID指定できない\n",
    "\n",
    "nietono_ans_tw_time = (api\n",
    "                       .get_status(nietono_ans_tw_id)\n",
    "                       .created_at\n",
    "                       .astimezone(timezone('Asia/Tokyo'))\n",
    "                       - datetime.timedelta(seconds=1) # 投稿1秒前\n",
    "                      ).strftime('%Y-%m-%d_%H:%M:%S_JST')\n",
    "nietono_ans_tw_time"
   ]
  },
  {
   "cell_type": "code",
   "execution_count": 59,
   "metadata": {},
   "outputs": [
    {
     "data": {
      "text/html": [
       "<div>\n",
       "<style scoped>\n",
       "    .dataframe tbody tr th:only-of-type {\n",
       "        vertical-align: middle;\n",
       "    }\n",
       "\n",
       "    .dataframe tbody tr th {\n",
       "        vertical-align: top;\n",
       "    }\n",
       "\n",
       "    .dataframe thead th {\n",
       "        text-align: right;\n",
       "    }\n",
       "</style>\n",
       "<table border=\"1\" class=\"dataframe\">\n",
       "  <thead>\n",
       "    <tr style=\"text-align: right;\">\n",
       "      <th></th>\n",
       "      <th>vote</th>\n",
       "      <th>tw_time</th>\n",
       "      <th>tw_text</th>\n",
       "      <th>twitter_user_id</th>\n",
       "      <th>twitter_user_name</th>\n",
       "      <th>twitter_user_prof</th>\n",
       "      <th>twitter_user_screen_name</th>\n",
       "      <th>twitter_user_followers_count</th>\n",
       "      <th>vote_url</th>\n",
       "      <th>is_quote</th>\n",
       "    </tr>\n",
       "  </thead>\n",
       "  <tbody>\n",
       "    <tr>\n",
       "      <th>0</th>\n",
       "      <td>A</td>\n",
       "      <td>2022-12-30 16:36:05+09:00</td>\n",
       "      <td>「やっぱ、そうだと思ってたんよ。」\\nって言う準備だけは万端整っております。\\n#スマブラー格付けチェック\\n#Aの部屋 https://t.co/nA...</td>\n",
       "      <td>1267297184698920961</td>\n",
       "      <td>猫山田部長🐾</td>\n",
       "      <td>猫山田部長です。\\n名前の通り、世の中の役に立たない部の部長をやっとります。\\n音速のいいねには定評があります。４歳サバトラです。</td>\n",
       "      <td>NekoyamadaBucho</td>\n",
       "      <td>1382</td>\n",
       "      <td>twitter.com/NekoyamadaBucho/status/1608728616053116929</td>\n",
       "      <td>False</td>\n",
       "    </tr>\n",
       "    <tr>\n",
       "      <th>1</th>\n",
       "      <td>A</td>\n",
       "      <td>2022-12-30 14:54:47+09:00</td>\n",
       "      <td>RT @Ueji1123: 結果はっぴょ～う！\\n答えは #Aの部屋 です！\\nAの部屋は しゅーとん vs KEN、Bの部屋は つぼつぼ vs にぐと...</td>\n",
       "      <td>1284505913152303111</td>\n",
       "      <td>しーくん\\ビシルプ</td>\n",
       "      <td>20歳のガキです||スプラトゥーンを愛してるスマブラ勢||思ったことなんでも呟くからたまにうるさい||フィットレメイン、イカカズヤ使いたい||ゼノブレフ...</td>\n",
       "      <td>shiikun_SSB</td>\n",
       "      <td>113</td>\n",
       "      <td>twitter.com/shiikun_SSB/status/1608703123035672580</td>\n",
       "      <td>False</td>\n",
       "    </tr>\n",
       "    <tr>\n",
       "      <th>2</th>\n",
       "      <td>A</td>\n",
       "      <td>2022-12-30 14:18:58+09:00</td>\n",
       "      <td>RT @Ueji1123: 結果はっぴょ～う！\\n答えは #Aの部屋 です！\\nAの部屋は しゅーとん vs KEN、Bの部屋は つぼつぼ vs にぐと...</td>\n",
       "      <td>1511997531043303425</td>\n",
       "      <td>なんとか</td>\n",
       "      <td>現実と向き合うアカウント　\\nコントラクトブリッジ　スマブラSP\\n現実から逃げるアカウント→@somethin_tonika</td>\n",
       "      <td>ludossbu</td>\n",
       "      <td>26</td>\n",
       "      <td>twitter.com/ludossbu/status/1608694110927589376</td>\n",
       "      <td>False</td>\n",
       "    </tr>\n",
       "    <tr>\n",
       "      <th>3</th>\n",
       "      <td>A</td>\n",
       "      <td>2022-12-30 13:52:42+09:00</td>\n",
       "      <td>RT @chibiT2169: #スマブラー格付けチェック \\nこれは間違いなく #Aの部屋 です。復帰台から降りてきた時のピクミンの引っこ抜き方で判断...</td>\n",
       "      <td>1188408449127698433</td>\n",
       "      <td>RaiNa Chronicle</td>\n",
       "      <td>メイン ディディー サブ ウルフ パルテナ　全ての原点はトレモだと思ってる。</td>\n",
       "      <td>RaiNa53581894</td>\n",
       "      <td>401</td>\n",
       "      <td>twitter.com/RaiNa53581894/status/1608687498720587777</td>\n",
       "      <td>False</td>\n",
       "    </tr>\n",
       "    <tr>\n",
       "      <th>4</th>\n",
       "      <td>A</td>\n",
       "      <td>2022-12-30 13:09:58+09:00</td>\n",
       "      <td>RT @chibiT2169: #スマブラー格付けチェック \\nこれは間違いなく #Aの部屋 です。復帰台から降りてきた時のピクミンの引っこ抜き方で判断...</td>\n",
       "      <td>954442172207525888</td>\n",
       "      <td>コカ・コウラ</td>\n",
       "      <td>沢山尊い絵とエッチな絵をRTしてる人</td>\n",
       "      <td>cola_yummy_</td>\n",
       "      <td>499</td>\n",
       "      <td>twitter.com/cola_yummy_/status/1608676746907521025</td>\n",
       "      <td>False</td>\n",
       "    </tr>\n",
       "    <tr>\n",
       "      <th>...</th>\n",
       "      <td>...</td>\n",
       "      <td>...</td>\n",
       "      <td>...</td>\n",
       "      <td>...</td>\n",
       "      <td>...</td>\n",
       "      <td>...</td>\n",
       "      <td>...</td>\n",
       "      <td>...</td>\n",
       "      <td>...</td>\n",
       "      <td>...</td>\n",
       "    </tr>\n",
       "    <tr>\n",
       "      <th>925</th>\n",
       "      <td>C</td>\n",
       "      <td>2022-12-29 18:18:07+09:00</td>\n",
       "      <td>#スマブラー格付けチェック #Cの部屋</td>\n",
       "      <td>979270253585711105</td>\n",
       "      <td>はるる</td>\n",
       "      <td>お別れはブロ解で たまに荒れるのでフォローは自己責任で\\n質問箱:https://t.co/zmoqwShj6P気軽にどうぞ</td>\n",
       "      <td>haruru__hero</td>\n",
       "      <td>617</td>\n",
       "      <td>twitter.com/haruru__hero/status/1608391906349973504</td>\n",
       "      <td>False</td>\n",
       "    </tr>\n",
       "    <tr>\n",
       "      <th>926</th>\n",
       "      <td>C</td>\n",
       "      <td>2022-12-29 18:17:57+09:00</td>\n",
       "      <td>#スマブラー格付けチェック #Cの部屋</td>\n",
       "      <td>1414227889143177216</td>\n",
       "      <td>デルガド</td>\n",
       "      <td>趣味垢・ぱせリス 友達が欲しい</td>\n",
       "      <td>ddddrrrgddddd</td>\n",
       "      <td>28</td>\n",
       "      <td>twitter.com/ddddrrrgddddd/status/1608391864910249985</td>\n",
       "      <td>False</td>\n",
       "    </tr>\n",
       "    <tr>\n",
       "      <th>927</th>\n",
       "      <td>C</td>\n",
       "      <td>2022-12-29 18:17:10+09:00</td>\n",
       "      <td>#スマブラー格付けチェック #Cの部屋</td>\n",
       "      <td>1137328153431437312</td>\n",
       "      <td>あisu🍨\\nスティーブ消せ</td>\n",
       "      <td>春日野穹 Love</td>\n",
       "      <td>Aisu_Sheik</td>\n",
       "      <td>800</td>\n",
       "      <td>twitter.com/Aisu_Sheik/status/1608391667081678848</td>\n",
       "      <td>False</td>\n",
       "    </tr>\n",
       "    <tr>\n",
       "      <th>928</th>\n",
       "      <td>C</td>\n",
       "      <td>2022-12-29 18:14:19+09:00</td>\n",
       "      <td>流石に今回露骨じゃない？余裕のCです\\n#スマブラー格付けチェック #Cの部屋</td>\n",
       "      <td>714790604081799168</td>\n",
       "      <td>PlusQ</td>\n",
       "      <td>北大地惑B4､スマサー SSBU:Steve Wolf ブルアカ ASMR狂信者 いいねをタイムラインに表示している君を社会的に抹殺する可能性のあるアカウント</td>\n",
       "      <td>93ta_im</td>\n",
       "      <td>129</td>\n",
       "      <td>twitter.com/93ta_im/status/1608390948773593088</td>\n",
       "      <td>False</td>\n",
       "    </tr>\n",
       "    <tr>\n",
       "      <th>929</th>\n",
       "      <td>C</td>\n",
       "      <td>2022-12-29 18:13:55+09:00</td>\n",
       "      <td>スプラ3しかしてない俺でも試合を見返すまでもなく即分かる。余裕でCの部屋。AがハズレでBがドボン。Bはとのさんの人強が見えたから引っかかる人も多いんじゃ...</td>\n",
       "      <td>780010763263942657</td>\n",
       "      <td>ほしまつり</td>\n",
       "      <td>全人類愛してる</td>\n",
       "      <td>matsurinD</td>\n",
       "      <td>181</td>\n",
       "      <td>twitter.com/matsurinD/status/1608390847065894912</td>\n",
       "      <td>False</td>\n",
       "    </tr>\n",
       "  </tbody>\n",
       "</table>\n",
       "<p>930 rows × 10 columns</p>\n",
       "</div>"
      ],
      "text/plain": [
       "    vote                   tw_time  \\\n",
       "0      A 2022-12-30 16:36:05+09:00   \n",
       "1      A 2022-12-30 14:54:47+09:00   \n",
       "2      A 2022-12-30 14:18:58+09:00   \n",
       "3      A 2022-12-30 13:52:42+09:00   \n",
       "4      A 2022-12-30 13:09:58+09:00   \n",
       "..   ...                       ...   \n",
       "925    C 2022-12-29 18:18:07+09:00   \n",
       "926    C 2022-12-29 18:17:57+09:00   \n",
       "927    C 2022-12-29 18:17:10+09:00   \n",
       "928    C 2022-12-29 18:14:19+09:00   \n",
       "929    C 2022-12-29 18:13:55+09:00   \n",
       "\n",
       "                                                                             tw_text  \\\n",
       "0    「やっぱ、そうだと思ってたんよ。」\\nって言う準備だけは万端整っております。\\n#スマブラー格付けチェック\\n#Aの部屋 https://t.co/nA...   \n",
       "1    RT @Ueji1123: 結果はっぴょ～う！\\n答えは #Aの部屋 です！\\nAの部屋は しゅーとん vs KEN、Bの部屋は つぼつぼ vs にぐと...   \n",
       "2    RT @Ueji1123: 結果はっぴょ～う！\\n答えは #Aの部屋 です！\\nAの部屋は しゅーとん vs KEN、Bの部屋は つぼつぼ vs にぐと...   \n",
       "3    RT @chibiT2169: #スマブラー格付けチェック \\nこれは間違いなく #Aの部屋 です。復帰台から降りてきた時のピクミンの引っこ抜き方で判断...   \n",
       "4    RT @chibiT2169: #スマブラー格付けチェック \\nこれは間違いなく #Aの部屋 です。復帰台から降りてきた時のピクミンの引っこ抜き方で判断...   \n",
       "..                                                                               ...   \n",
       "925                                                              #スマブラー格付けチェック #Cの部屋   \n",
       "926                                                              #スマブラー格付けチェック #Cの部屋   \n",
       "927                                                              #スマブラー格付けチェック #Cの部屋   \n",
       "928                                          流石に今回露骨じゃない？余裕のCです\\n#スマブラー格付けチェック #Cの部屋   \n",
       "929  スプラ3しかしてない俺でも試合を見返すまでもなく即分かる。余裕でCの部屋。AがハズレでBがドボン。Bはとのさんの人強が見えたから引っかかる人も多いんじゃ...   \n",
       "\n",
       "         twitter_user_id twitter_user_name  \\\n",
       "0    1267297184698920961            猫山田部長🐾   \n",
       "1    1284505913152303111         しーくん\\ビシルプ   \n",
       "2    1511997531043303425              なんとか   \n",
       "3    1188408449127698433   RaiNa Chronicle   \n",
       "4     954442172207525888            コカ・コウラ   \n",
       "..                   ...               ...   \n",
       "925   979270253585711105               はるる   \n",
       "926  1414227889143177216              デルガド   \n",
       "927  1137328153431437312    あisu🍨\\nスティーブ消せ   \n",
       "928   714790604081799168             PlusQ   \n",
       "929   780010763263942657             ほしまつり   \n",
       "\n",
       "                                                                   twitter_user_prof  \\\n",
       "0                  猫山田部長です。\\n名前の通り、世の中の役に立たない部の部長をやっとります。\\n音速のいいねには定評があります。４歳サバトラです。   \n",
       "1    20歳のガキです||スプラトゥーンを愛してるスマブラ勢||思ったことなんでも呟くからたまにうるさい||フィットレメイン、イカカズヤ使いたい||ゼノブレフ...   \n",
       "2                    現実と向き合うアカウント　\\nコントラクトブリッジ　スマブラSP\\n現実から逃げるアカウント→@somethin_tonika   \n",
       "3                                             メイン ディディー サブ ウルフ パルテナ　全ての原点はトレモだと思ってる。   \n",
       "4                                                                 沢山尊い絵とエッチな絵をRTしてる人   \n",
       "..                                                                               ...   \n",
       "925                   お別れはブロ解で たまに荒れるのでフォローは自己責任で\\n質問箱:https://t.co/zmoqwShj6P気軽にどうぞ   \n",
       "926                                                                  趣味垢・ぱせリス 友達が欲しい   \n",
       "927                                                                        春日野穹 Love   \n",
       "928  北大地惑B4､スマサー SSBU:Steve Wolf ブルアカ ASMR狂信者 いいねをタイムラインに表示している君を社会的に抹殺する可能性のあるアカウント   \n",
       "929                                                                          全人類愛してる   \n",
       "\n",
       "    twitter_user_screen_name  twitter_user_followers_count  \\\n",
       "0            NekoyamadaBucho                          1382   \n",
       "1                shiikun_SSB                           113   \n",
       "2                   ludossbu                            26   \n",
       "3              RaiNa53581894                           401   \n",
       "4                cola_yummy_                           499   \n",
       "..                       ...                           ...   \n",
       "925             haruru__hero                           617   \n",
       "926            ddddrrrgddddd                            28   \n",
       "927               Aisu_Sheik                           800   \n",
       "928                  93ta_im                           129   \n",
       "929                matsurinD                           181   \n",
       "\n",
       "                                                   vote_url  is_quote  \n",
       "0    twitter.com/NekoyamadaBucho/status/1608728616053116929     False  \n",
       "1        twitter.com/shiikun_SSB/status/1608703123035672580     False  \n",
       "2           twitter.com/ludossbu/status/1608694110927589376     False  \n",
       "3      twitter.com/RaiNa53581894/status/1608687498720587777     False  \n",
       "4        twitter.com/cola_yummy_/status/1608676746907521025     False  \n",
       "..                                                      ...       ...  \n",
       "925     twitter.com/haruru__hero/status/1608391906349973504     False  \n",
       "926    twitter.com/ddddrrrgddddd/status/1608391864910249985     False  \n",
       "927       twitter.com/Aisu_Sheik/status/1608391667081678848     False  \n",
       "928          twitter.com/93ta_im/status/1608390948773593088     False  \n",
       "929        twitter.com/matsurinD/status/1608390847065894912     False  \n",
       "\n",
       "[930 rows x 10 columns]"
      ]
     },
     "execution_count": 59,
     "metadata": {},
     "output_type": "execute_result"
    }
   ],
   "source": [
    "# 回答ツイートとユーザーの情報を取得\n",
    "\n",
    "room_names = [\"A\", \"B\", \"C\"]\n",
    "q_dict = {\"A\":\"#Aの部屋 AND -#Bの部屋 AND -#Cの部屋\",\n",
    "          \"B\":\"#Bの部屋 AND -#Cの部屋 AND -#Aの部屋\",\n",
    "          \"C\":\"#Cの部屋 AND -#Aの部屋 AND -#Bの部屋\"\n",
    "         }\n",
    "tw_data = defaultdict(list)\n",
    "\n",
    "for vote_to in room_names:\n",
    "    for tweet in tweepy.Cursor(api.search_tweets, q=q_dict[vote_to], since_id=nietono_q_tw_id, until=nietono_ans_tw_time, result_type=\"mixed\").items():\n",
    "        tw_data[\"vote\"].append(vote_to)\n",
    "        tw_data[\"tw_time\"].append(tweet.created_at.astimezone(timezone('Asia/Tokyo'))) # JSTに修正\n",
    "        tw_data[\"tw_text\"].append(tweet.text)\n",
    "        tw_data[\"twitter_user_id\"].append(tweet.user.id)\n",
    "        tw_data[\"twitter_user_name\"].append(tweet.user.name)\n",
    "        tw_data[\"twitter_user_prof\"].append(tweet.user.description)\n",
    "        tw_data[\"twitter_user_screen_name\"].append(tweet.user.screen_name)\n",
    "        tw_data[\"twitter_user_followers_count\"].append(tweet.user.followers_count)\n",
    "        tw_data[\"vote_url\"].append(f\"twitter.com/{tweet.user.screen_name}/status/{tweet.id}\")\n",
    "        tw_data[\"is_quote\"].append(tweet.is_quote_status)\n",
    "\n",
    "df_vote = pd.DataFrame.from_dict(tw_data)\n",
    "df_vote.to_csv(\"df_vote/df_vote_\" + get_now() + \".csv\", index=False, encoding=\"utf-8-sig\") # 時刻付きで出力\n",
    "df_vote"
   ]
  },
  {
   "cell_type": "markdown",
   "metadata": {},
   "source": [
    "### データ加工･出力"
   ]
  },
  {
   "cell_type": "code",
   "execution_count": 33,
   "metadata": {},
   "outputs": [],
   "source": [
    "# 何度か分けて取得したデータをマージ。各ユーザーごとに最後の回答だけ残す\n",
    "# 回答修正と、ツイート削除対策\n",
    "\n",
    "df_vote = pd.DataFrame()\n",
    "\n",
    "for file in glob.glob(\"df_vote/*\"):\n",
    "    df_vote = pd.concat([df_vote, pd.read_csv(file)])\n",
    "\n",
    "df_vote = (df_vote\n",
    "           .sort_values([\"tw_time\"])\n",
    "           .drop_duplicates(\"user_id\", keep=\"last\")\n",
    "          )"
   ]
  },
  {
   "cell_type": "code",
   "execution_count": 34,
   "metadata": {},
   "outputs": [],
   "source": [
    "# 回答ツイートのRTを除く\n",
    "# 単純RTや、引用RTのRT(例:1476301813599068161)はtweet.text[0:4]==\"RT @\"となることを利用する\n",
    "\n",
    "df_vote = df_vote[df_vote.tw_text.str[0:4] != \"RT @\"]"
   ]
  },
  {
   "cell_type": "code",
   "execution_count": 37,
   "metadata": {},
   "outputs": [],
   "source": [
    "# 出題後何時間後のツイートかカラム追加\n",
    "\n",
    "df_vote[\"delta_hours\"] = ((df_vote[\"tw_time\"]\n",
    "                          .apply(pd.to_datetime)-pd.to_datetime(\"2021-12-29 18:00:00+09:00\"))\n",
    "                          .dt.total_seconds()\n",
    "                          .apply(lambda x: int(x/3600))\n",
    "                         )"
   ]
  },
  {
   "cell_type": "code",
   "execution_count": 62,
   "metadata": {},
   "outputs": [],
   "source": [
    "# 出力\n",
    "\n",
    "df_vote.to_csv(\"df_vote.csv\", index=False, encoding=\"utf-8-sig\")\n",
    "df_vote"
   ]
  },
  {
   "cell_type": "code",
   "execution_count": null,
   "metadata": {},
   "outputs": [],
   "source": []
  }
 ],
 "metadata": {
  "kernelspec": {
   "display_name": "Python 3",
   "language": "python",
   "name": "python3"
  },
  "language_info": {
   "codemirror_mode": {
    "name": "ipython",
    "version": 3
   },
   "file_extension": ".py",
   "mimetype": "text/x-python",
   "name": "python",
   "nbconvert_exporter": "python",
   "pygments_lexer": "ipython3",
   "version": "3.8.3"
  }
 },
 "nbformat": 4,
 "nbformat_minor": 4
}
